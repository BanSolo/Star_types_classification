{
 "cells": [
  {
   "cell_type": "markdown",
   "id": "eb01e1df",
   "metadata": {},
   "source": [
    "### Imports"
   ]
  },
  {
   "cell_type": "code",
   "execution_count": 324,
   "id": "1966091c",
   "metadata": {},
   "outputs": [],
   "source": [
    "import pandas as pd\n",
    "import numpy as np\n",
    "import matplotlib.pyplot as plt\n",
    "import seaborn as sns\n",
    "\n",
    "from sklearn.preprocessing import OneHotEncoder\n",
    "from sklearn.preprocessing import StandardScaler\n",
    "from sklearn.model_selection import train_test_split\n",
    "from sklearn.model_selection import cross_val_score\n",
    "from sklearn.model_selection import GridSearchCV\n",
    "from sklearn.tree import DecisionTreeClassifier\n",
    "from sklearn.ensemble import RandomForestClassifier\n",
    "from sklearn.neighbors import KNeighborsClassifier\n",
    "from sklearn.svm import SVC\n",
    "from sklearn.linear_model import LogisticRegression\n",
    "\n",
    "from sklearn.metrics import accuracy_score\n",
    "from sklearn.metrics import confusion_matrix\n",
    "\n",
    "plt.rcParams['figure.figsize'] = [12, 6]\n",
    "sns.set_theme(style=\"darkgrid\")"
   ]
  },
  {
   "cell_type": "markdown",
   "id": "43166c07",
   "metadata": {},
   "source": [
    "### Load data from dataset"
   ]
  },
  {
   "cell_type": "code",
   "execution_count": 325,
   "id": "4a90507c",
   "metadata": {},
   "outputs": [
    {
     "data": {
      "text/html": [
       "<div>\n",
       "<style scoped>\n",
       "    .dataframe tbody tr th:only-of-type {\n",
       "        vertical-align: middle;\n",
       "    }\n",
       "\n",
       "    .dataframe tbody tr th {\n",
       "        vertical-align: top;\n",
       "    }\n",
       "\n",
       "    .dataframe thead th {\n",
       "        text-align: right;\n",
       "    }\n",
       "</style>\n",
       "<table border=\"1\" class=\"dataframe\">\n",
       "  <thead>\n",
       "    <tr style=\"text-align: right;\">\n",
       "      <th></th>\n",
       "      <th>Temperature (K)</th>\n",
       "      <th>Luminosity(L/Lo)</th>\n",
       "      <th>Radius(R/Ro)</th>\n",
       "      <th>Absolute magnitude(Mv)</th>\n",
       "      <th>Star type</th>\n",
       "      <th>Star color</th>\n",
       "      <th>Spectral Class</th>\n",
       "    </tr>\n",
       "  </thead>\n",
       "  <tbody>\n",
       "    <tr>\n",
       "      <th>0</th>\n",
       "      <td>3068</td>\n",
       "      <td>0.002400</td>\n",
       "      <td>0.1700</td>\n",
       "      <td>16.12</td>\n",
       "      <td>0</td>\n",
       "      <td>Red</td>\n",
       "      <td>M</td>\n",
       "    </tr>\n",
       "    <tr>\n",
       "      <th>1</th>\n",
       "      <td>3042</td>\n",
       "      <td>0.000500</td>\n",
       "      <td>0.1542</td>\n",
       "      <td>16.60</td>\n",
       "      <td>0</td>\n",
       "      <td>Red</td>\n",
       "      <td>M</td>\n",
       "    </tr>\n",
       "    <tr>\n",
       "      <th>2</th>\n",
       "      <td>2600</td>\n",
       "      <td>0.000300</td>\n",
       "      <td>0.1020</td>\n",
       "      <td>18.70</td>\n",
       "      <td>0</td>\n",
       "      <td>Red</td>\n",
       "      <td>M</td>\n",
       "    </tr>\n",
       "    <tr>\n",
       "      <th>3</th>\n",
       "      <td>2800</td>\n",
       "      <td>0.000200</td>\n",
       "      <td>0.1600</td>\n",
       "      <td>16.65</td>\n",
       "      <td>0</td>\n",
       "      <td>Red</td>\n",
       "      <td>M</td>\n",
       "    </tr>\n",
       "    <tr>\n",
       "      <th>4</th>\n",
       "      <td>1939</td>\n",
       "      <td>0.000138</td>\n",
       "      <td>0.1030</td>\n",
       "      <td>20.06</td>\n",
       "      <td>0</td>\n",
       "      <td>Red</td>\n",
       "      <td>M</td>\n",
       "    </tr>\n",
       "    <tr>\n",
       "      <th>...</th>\n",
       "      <td>...</td>\n",
       "      <td>...</td>\n",
       "      <td>...</td>\n",
       "      <td>...</td>\n",
       "      <td>...</td>\n",
       "      <td>...</td>\n",
       "      <td>...</td>\n",
       "    </tr>\n",
       "    <tr>\n",
       "      <th>235</th>\n",
       "      <td>38940</td>\n",
       "      <td>374830.000000</td>\n",
       "      <td>1356.0000</td>\n",
       "      <td>-9.93</td>\n",
       "      <td>5</td>\n",
       "      <td>Blue</td>\n",
       "      <td>O</td>\n",
       "    </tr>\n",
       "    <tr>\n",
       "      <th>236</th>\n",
       "      <td>30839</td>\n",
       "      <td>834042.000000</td>\n",
       "      <td>1194.0000</td>\n",
       "      <td>-10.63</td>\n",
       "      <td>5</td>\n",
       "      <td>Blue</td>\n",
       "      <td>O</td>\n",
       "    </tr>\n",
       "    <tr>\n",
       "      <th>237</th>\n",
       "      <td>8829</td>\n",
       "      <td>537493.000000</td>\n",
       "      <td>1423.0000</td>\n",
       "      <td>-10.73</td>\n",
       "      <td>5</td>\n",
       "      <td>White</td>\n",
       "      <td>A</td>\n",
       "    </tr>\n",
       "    <tr>\n",
       "      <th>238</th>\n",
       "      <td>9235</td>\n",
       "      <td>404940.000000</td>\n",
       "      <td>1112.0000</td>\n",
       "      <td>-11.23</td>\n",
       "      <td>5</td>\n",
       "      <td>White</td>\n",
       "      <td>A</td>\n",
       "    </tr>\n",
       "    <tr>\n",
       "      <th>239</th>\n",
       "      <td>37882</td>\n",
       "      <td>294903.000000</td>\n",
       "      <td>1783.0000</td>\n",
       "      <td>-7.80</td>\n",
       "      <td>5</td>\n",
       "      <td>Blue</td>\n",
       "      <td>O</td>\n",
       "    </tr>\n",
       "  </tbody>\n",
       "</table>\n",
       "<p>240 rows × 7 columns</p>\n",
       "</div>"
      ],
      "text/plain": [
       "     Temperature (K)  Luminosity(L/Lo)  Radius(R/Ro)  Absolute magnitude(Mv)  \\\n",
       "0               3068          0.002400        0.1700                   16.12   \n",
       "1               3042          0.000500        0.1542                   16.60   \n",
       "2               2600          0.000300        0.1020                   18.70   \n",
       "3               2800          0.000200        0.1600                   16.65   \n",
       "4               1939          0.000138        0.1030                   20.06   \n",
       "..               ...               ...           ...                     ...   \n",
       "235            38940     374830.000000     1356.0000                   -9.93   \n",
       "236            30839     834042.000000     1194.0000                  -10.63   \n",
       "237             8829     537493.000000     1423.0000                  -10.73   \n",
       "238             9235     404940.000000     1112.0000                  -11.23   \n",
       "239            37882     294903.000000     1783.0000                   -7.80   \n",
       "\n",
       "     Star type Star color Spectral Class  \n",
       "0            0        Red              M  \n",
       "1            0        Red              M  \n",
       "2            0        Red              M  \n",
       "3            0        Red              M  \n",
       "4            0        Red              M  \n",
       "..         ...        ...            ...  \n",
       "235          5       Blue              O  \n",
       "236          5       Blue              O  \n",
       "237          5      White              A  \n",
       "238          5      White              A  \n",
       "239          5       Blue              O  \n",
       "\n",
       "[240 rows x 7 columns]"
      ]
     },
     "execution_count": 325,
     "metadata": {},
     "output_type": "execute_result"
    }
   ],
   "source": [
    "df = pd.read_csv('../data/6 class csv.csv')\n",
    "df"
   ]
  },
  {
   "cell_type": "code",
   "execution_count": 326,
   "id": "ee27f9cc",
   "metadata": {},
   "outputs": [
    {
     "name": "stdout",
     "output_type": "stream",
     "text": [
      "<class 'pandas.core.frame.DataFrame'>\n",
      "RangeIndex: 240 entries, 0 to 239\n",
      "Data columns (total 7 columns):\n",
      " #   Column                  Non-Null Count  Dtype  \n",
      "---  ------                  --------------  -----  \n",
      " 0   Temperature (K)         240 non-null    int64  \n",
      " 1   Luminosity(L/Lo)        240 non-null    float64\n",
      " 2   Radius(R/Ro)            240 non-null    float64\n",
      " 3   Absolute magnitude(Mv)  240 non-null    float64\n",
      " 4   Star type               240 non-null    int64  \n",
      " 5   Star color              240 non-null    object \n",
      " 6   Spectral Class          240 non-null    object \n",
      "dtypes: float64(3), int64(2), object(2)\n",
      "memory usage: 13.2+ KB\n"
     ]
    }
   ],
   "source": [
    "df.info()"
   ]
  },
  {
   "cell_type": "code",
   "execution_count": 327,
   "id": "d5d50200",
   "metadata": {},
   "outputs": [
    {
     "data": {
      "text/html": [
       "<div>\n",
       "<style scoped>\n",
       "    .dataframe tbody tr th:only-of-type {\n",
       "        vertical-align: middle;\n",
       "    }\n",
       "\n",
       "    .dataframe tbody tr th {\n",
       "        vertical-align: top;\n",
       "    }\n",
       "\n",
       "    .dataframe thead th {\n",
       "        text-align: right;\n",
       "    }\n",
       "</style>\n",
       "<table border=\"1\" class=\"dataframe\">\n",
       "  <thead>\n",
       "    <tr style=\"text-align: right;\">\n",
       "      <th></th>\n",
       "      <th>Temperature (K)</th>\n",
       "      <th>Luminosity(L/Lo)</th>\n",
       "      <th>Radius(R/Ro)</th>\n",
       "      <th>Absolute magnitude(Mv)</th>\n",
       "      <th>Star type</th>\n",
       "    </tr>\n",
       "  </thead>\n",
       "  <tbody>\n",
       "    <tr>\n",
       "      <th>count</th>\n",
       "      <td>240.000000</td>\n",
       "      <td>240.000000</td>\n",
       "      <td>240.000000</td>\n",
       "      <td>240.000000</td>\n",
       "      <td>240.000000</td>\n",
       "    </tr>\n",
       "    <tr>\n",
       "      <th>mean</th>\n",
       "      <td>10497.462500</td>\n",
       "      <td>107188.361635</td>\n",
       "      <td>237.157781</td>\n",
       "      <td>4.382396</td>\n",
       "      <td>2.500000</td>\n",
       "    </tr>\n",
       "    <tr>\n",
       "      <th>std</th>\n",
       "      <td>9552.425037</td>\n",
       "      <td>179432.244940</td>\n",
       "      <td>517.155763</td>\n",
       "      <td>10.532512</td>\n",
       "      <td>1.711394</td>\n",
       "    </tr>\n",
       "    <tr>\n",
       "      <th>min</th>\n",
       "      <td>1939.000000</td>\n",
       "      <td>0.000080</td>\n",
       "      <td>0.008400</td>\n",
       "      <td>-11.920000</td>\n",
       "      <td>0.000000</td>\n",
       "    </tr>\n",
       "    <tr>\n",
       "      <th>25%</th>\n",
       "      <td>3344.250000</td>\n",
       "      <td>0.000865</td>\n",
       "      <td>0.102750</td>\n",
       "      <td>-6.232500</td>\n",
       "      <td>1.000000</td>\n",
       "    </tr>\n",
       "    <tr>\n",
       "      <th>50%</th>\n",
       "      <td>5776.000000</td>\n",
       "      <td>0.070500</td>\n",
       "      <td>0.762500</td>\n",
       "      <td>8.313000</td>\n",
       "      <td>2.500000</td>\n",
       "    </tr>\n",
       "    <tr>\n",
       "      <th>75%</th>\n",
       "      <td>15055.500000</td>\n",
       "      <td>198050.000000</td>\n",
       "      <td>42.750000</td>\n",
       "      <td>13.697500</td>\n",
       "      <td>4.000000</td>\n",
       "    </tr>\n",
       "    <tr>\n",
       "      <th>max</th>\n",
       "      <td>40000.000000</td>\n",
       "      <td>849420.000000</td>\n",
       "      <td>1948.500000</td>\n",
       "      <td>20.060000</td>\n",
       "      <td>5.000000</td>\n",
       "    </tr>\n",
       "  </tbody>\n",
       "</table>\n",
       "</div>"
      ],
      "text/plain": [
       "       Temperature (K)  Luminosity(L/Lo)  Radius(R/Ro)  \\\n",
       "count       240.000000        240.000000    240.000000   \n",
       "mean      10497.462500     107188.361635    237.157781   \n",
       "std        9552.425037     179432.244940    517.155763   \n",
       "min        1939.000000          0.000080      0.008400   \n",
       "25%        3344.250000          0.000865      0.102750   \n",
       "50%        5776.000000          0.070500      0.762500   \n",
       "75%       15055.500000     198050.000000     42.750000   \n",
       "max       40000.000000     849420.000000   1948.500000   \n",
       "\n",
       "       Absolute magnitude(Mv)   Star type  \n",
       "count              240.000000  240.000000  \n",
       "mean                 4.382396    2.500000  \n",
       "std                 10.532512    1.711394  \n",
       "min                -11.920000    0.000000  \n",
       "25%                 -6.232500    1.000000  \n",
       "50%                  8.313000    2.500000  \n",
       "75%                 13.697500    4.000000  \n",
       "max                 20.060000    5.000000  "
      ]
     },
     "execution_count": 327,
     "metadata": {},
     "output_type": "execute_result"
    }
   ],
   "source": [
    "df.describe()"
   ]
  },
  {
   "cell_type": "code",
   "execution_count": 328,
   "id": "0bfa3cc6",
   "metadata": {},
   "outputs": [
    {
     "data": {
      "text/plain": [
       "Temperature (K)           0\n",
       "Luminosity(L/Lo)          0\n",
       "Radius(R/Ro)              0\n",
       "Absolute magnitude(Mv)    0\n",
       "Star type                 0\n",
       "Star color                0\n",
       "Spectral Class            0\n",
       "dtype: int64"
      ]
     },
     "execution_count": 328,
     "metadata": {},
     "output_type": "execute_result"
    }
   ],
   "source": [
    "df.isnull().sum()"
   ]
  },
  {
   "cell_type": "markdown",
   "id": "2a39be76",
   "metadata": {},
   "source": [
    "Okey, we don't have any missing value. It's rare."
   ]
  },
  {
   "cell_type": "code",
   "execution_count": 329,
   "id": "74adb7fb",
   "metadata": {},
   "outputs": [
    {
     "data": {
      "text/plain": [
       "<AxesSubplot:xlabel='Star type', ylabel='count'>"
      ]
     },
     "execution_count": 329,
     "metadata": {},
     "output_type": "execute_result"
    },
    {
     "data": {
      "image/png": "[encoded data removed]",
      "text/plain": [
       "<Figure size 864x432 with 1 Axes>"
      ]
     },
     "metadata": {},
     "output_type": "display_data"
    }
   ],
   "source": [
    "sns.countplot(x=df['Star type'], data=df)"
   ]
  },
  {
   "cell_type": "markdown",
   "id": "83f9f1ab",
   "metadata": {},
   "source": [
    "We have a balanced dataset, good."
   ]
  },
  {
   "cell_type": "code",
   "execution_count": 330,
   "id": "e833f385",
   "metadata": {},
   "outputs": [
    {
     "data": {
      "text/plain": [
       "<seaborn.axisgrid.PairGrid at 0x25173176df0>"
      ]
     },
     "execution_count": 330,
     "metadata": {},
     "output_type": "execute_result"
    },
    {
     "data": {
      "image/png": "[encoded data removed]",
      "text/plain": [
       "<Figure size 900x900 with 30 Axes>"
      ]
     },
     "metadata": {},
     "output_type": "display_data"
    }
   ],
   "source": [
    "sns.pairplot(data=df)"
   ]
  },
  {
   "cell_type": "code",
   "execution_count": 331,
   "id": "ca61477a",
   "metadata": {},
   "outputs": [
    {
     "data": {
      "text/plain": [
       "['Temperature (K)',\n",
       " 'Luminosity(L/Lo)',\n",
       " 'Radius(R/Ro)',\n",
       " 'Absolute magnitude(Mv)',\n",
       " 'Star type']"
      ]
     },
     "execution_count": 331,
     "metadata": {},
     "output_type": "execute_result"
    }
   ],
   "source": [
    "num_cols = list(df.select_dtypes(include=['int64', 'float64']).columns)\n",
    "num_cols"
   ]
  },
  {
   "cell_type": "code",
   "execution_count": 332,
   "id": "65bbfbdd",
   "metadata": {},
   "outputs": [
    {
     "data": {
      "text/plain": [
       "<AxesSubplot:>"
      ]
     },
     "execution_count": 332,
     "metadata": {},
     "output_type": "execute_result"
    },
    {
     "data": {
      "image/png": "[encoded data removed]",
      "text/plain": [
       "<Figure size 864x432 with 1 Axes>"
      ]
     },
     "metadata": {},
     "output_type": "display_data"
    }
   ],
   "source": [
    "sns.boxplot(data=df[num_cols])"
   ]
  },
  {
   "cell_type": "markdown",
   "id": "5efaae93",
   "metadata": {},
   "source": [
    "We may have outliers but I don't want to get rid of them because we don't have large dataset and I wan to see the preformance of models with this dataset."
   ]
  },
  {
   "cell_type": "code",
   "execution_count": 336,
   "id": "dad1f85b",
   "metadata": {},
   "outputs": [
    {
     "data": {
      "text/plain": [
       "<AxesSubplot:>"
      ]
     },
     "execution_count": 336,
     "metadata": {},
     "output_type": "execute_result"
    },
    {
     "data": {
      "image/png": "[encoded data removed]",
      "text/plain": [
       "<Figure size 864x432 with 2 Axes>"
      ]
     },
     "metadata": {},
     "output_type": "display_data"
    }
   ],
   "source": [
    "sns.heatmap(df.loc[:, df.columns != 'Star type'].corr(), annot=True)"
   ]
  },
  {
   "cell_type": "markdown",
   "id": "c62324d1",
   "metadata": {},
   "source": [
    "There isn't big correlation among columns."
   ]
  },
  {
   "cell_type": "markdown",
   "id": "f38a5c42",
   "metadata": {},
   "source": [
    "### We determine both the feature and the target variables."
   ]
  },
  {
   "cell_type": "code",
   "execution_count": 337,
   "id": "490860a1",
   "metadata": {},
   "outputs": [],
   "source": [
    "X = df.copy() # feature variables\n",
    "X.drop(['Star type'], inplace=True, axis=1) # drop the target variable\n",
    "y = df['Star type'] # target variable\n",
    "y = y.values.reshape(-1, 1)"
   ]
  },
  {
   "cell_type": "code",
   "execution_count": 338,
   "id": "fa3dd576",
   "metadata": {},
   "outputs": [
    {
     "data": {
      "text/html": [
       "<div>\n",
       "<style scoped>\n",
       "    .dataframe tbody tr th:only-of-type {\n",
       "        vertical-align: middle;\n",
       "    }\n",
       "\n",
       "    .dataframe tbody tr th {\n",
       "        vertical-align: top;\n",
       "    }\n",
       "\n",
       "    .dataframe thead th {\n",
       "        text-align: right;\n",
       "    }\n",
       "</style>\n",
       "<table border=\"1\" class=\"dataframe\">\n",
       "  <thead>\n",
       "    <tr style=\"text-align: right;\">\n",
       "      <th></th>\n",
       "      <th>Temperature (K)</th>\n",
       "      <th>Luminosity(L/Lo)</th>\n",
       "      <th>Radius(R/Ro)</th>\n",
       "      <th>Absolute magnitude(Mv)</th>\n",
       "      <th>Star color</th>\n",
       "      <th>Spectral Class</th>\n",
       "    </tr>\n",
       "  </thead>\n",
       "  <tbody>\n",
       "    <tr>\n",
       "      <th>0</th>\n",
       "      <td>3068</td>\n",
       "      <td>0.002400</td>\n",
       "      <td>0.1700</td>\n",
       "      <td>16.12</td>\n",
       "      <td>Red</td>\n",
       "      <td>M</td>\n",
       "    </tr>\n",
       "    <tr>\n",
       "      <th>1</th>\n",
       "      <td>3042</td>\n",
       "      <td>0.000500</td>\n",
       "      <td>0.1542</td>\n",
       "      <td>16.60</td>\n",
       "      <td>Red</td>\n",
       "      <td>M</td>\n",
       "    </tr>\n",
       "    <tr>\n",
       "      <th>2</th>\n",
       "      <td>2600</td>\n",
       "      <td>0.000300</td>\n",
       "      <td>0.1020</td>\n",
       "      <td>18.70</td>\n",
       "      <td>Red</td>\n",
       "      <td>M</td>\n",
       "    </tr>\n",
       "    <tr>\n",
       "      <th>3</th>\n",
       "      <td>2800</td>\n",
       "      <td>0.000200</td>\n",
       "      <td>0.1600</td>\n",
       "      <td>16.65</td>\n",
       "      <td>Red</td>\n",
       "      <td>M</td>\n",
       "    </tr>\n",
       "    <tr>\n",
       "      <th>4</th>\n",
       "      <td>1939</td>\n",
       "      <td>0.000138</td>\n",
       "      <td>0.1030</td>\n",
       "      <td>20.06</td>\n",
       "      <td>Red</td>\n",
       "      <td>M</td>\n",
       "    </tr>\n",
       "    <tr>\n",
       "      <th>...</th>\n",
       "      <td>...</td>\n",
       "      <td>...</td>\n",
       "      <td>...</td>\n",
       "      <td>...</td>\n",
       "      <td>...</td>\n",
       "      <td>...</td>\n",
       "    </tr>\n",
       "    <tr>\n",
       "      <th>235</th>\n",
       "      <td>38940</td>\n",
       "      <td>374830.000000</td>\n",
       "      <td>1356.0000</td>\n",
       "      <td>-9.93</td>\n",
       "      <td>Blue</td>\n",
       "      <td>O</td>\n",
       "    </tr>\n",
       "    <tr>\n",
       "      <th>236</th>\n",
       "      <td>30839</td>\n",
       "      <td>834042.000000</td>\n",
       "      <td>1194.0000</td>\n",
       "      <td>-10.63</td>\n",
       "      <td>Blue</td>\n",
       "      <td>O</td>\n",
       "    </tr>\n",
       "    <tr>\n",
       "      <th>237</th>\n",
       "      <td>8829</td>\n",
       "      <td>537493.000000</td>\n",
       "      <td>1423.0000</td>\n",
       "      <td>-10.73</td>\n",
       "      <td>White</td>\n",
       "      <td>A</td>\n",
       "    </tr>\n",
       "    <tr>\n",
       "      <th>238</th>\n",
       "      <td>9235</td>\n",
       "      <td>404940.000000</td>\n",
       "      <td>1112.0000</td>\n",
       "      <td>-11.23</td>\n",
       "      <td>White</td>\n",
       "      <td>A</td>\n",
       "    </tr>\n",
       "    <tr>\n",
       "      <th>239</th>\n",
       "      <td>37882</td>\n",
       "      <td>294903.000000</td>\n",
       "      <td>1783.0000</td>\n",
       "      <td>-7.80</td>\n",
       "      <td>Blue</td>\n",
       "      <td>O</td>\n",
       "    </tr>\n",
       "  </tbody>\n",
       "</table>\n",
       "<p>240 rows × 6 columns</p>\n",
       "</div>"
      ],
      "text/plain": [
       "     Temperature (K)  Luminosity(L/Lo)  Radius(R/Ro)  Absolute magnitude(Mv)  \\\n",
       "0               3068          0.002400        0.1700                   16.12   \n",
       "1               3042          0.000500        0.1542                   16.60   \n",
       "2               2600          0.000300        0.1020                   18.70   \n",
       "3               2800          0.000200        0.1600                   16.65   \n",
       "4               1939          0.000138        0.1030                   20.06   \n",
       "..               ...               ...           ...                     ...   \n",
       "235            38940     374830.000000     1356.0000                   -9.93   \n",
       "236            30839     834042.000000     1194.0000                  -10.63   \n",
       "237             8829     537493.000000     1423.0000                  -10.73   \n",
       "238             9235     404940.000000     1112.0000                  -11.23   \n",
       "239            37882     294903.000000     1783.0000                   -7.80   \n",
       "\n",
       "    Star color Spectral Class  \n",
       "0          Red              M  \n",
       "1          Red              M  \n",
       "2          Red              M  \n",
       "3          Red              M  \n",
       "4          Red              M  \n",
       "..         ...            ...  \n",
       "235       Blue              O  \n",
       "236       Blue              O  \n",
       "237      White              A  \n",
       "238      White              A  \n",
       "239       Blue              O  \n",
       "\n",
       "[240 rows x 6 columns]"
      ]
     },
     "execution_count": 338,
     "metadata": {},
     "output_type": "execute_result"
    }
   ],
   "source": [
    "X"
   ]
  },
  {
   "cell_type": "markdown",
   "id": "c2780377",
   "metadata": {},
   "source": [
    "### Scaling"
   ]
  },
  {
   "cell_type": "code",
   "execution_count": 339,
   "id": "34db8237",
   "metadata": {},
   "outputs": [],
   "source": [
    "sc = StandardScaler()\n",
    "X.iloc[:, :-2] = sc.fit_transform(X.iloc[:, :-2])"
   ]
  },
  {
   "cell_type": "markdown",
   "id": "a432c1c0",
   "metadata": {},
   "source": [
    "Let's check it."
   ]
  },
  {
   "cell_type": "code",
   "execution_count": 340,
   "id": "7108190c",
   "metadata": {},
   "outputs": [
    {
     "data": {
      "text/plain": [
       "<AxesSubplot:>"
      ]
     },
     "execution_count": 340,
     "metadata": {},
     "output_type": "execute_result"
    },
    {
     "data": {
      "image/png": "[encoded data removed]",
      "text/plain": [
       "<Figure size 864x432 with 1 Axes>"
      ]
     },
     "metadata": {},
     "output_type": "display_data"
    }
   ],
   "source": [
    "sns.boxplot(data=X)"
   ]
  },
  {
   "cell_type": "markdown",
   "id": "193743ef",
   "metadata": {},
   "source": [
    "Now the numeric type columns have similar range."
   ]
  },
  {
   "cell_type": "markdown",
   "id": "486c6582",
   "metadata": {},
   "source": [
    "Models can't calculate with strings therefore we have to encode these values. I will use OnehotEncoder for this."
   ]
  },
  {
   "cell_type": "code",
   "execution_count": 341,
   "id": "b0efa1f5",
   "metadata": {},
   "outputs": [
    {
     "data": {
      "text/html": [
       "<div>\n",
       "<style scoped>\n",
       "    .dataframe tbody tr th:only-of-type {\n",
       "        vertical-align: middle;\n",
       "    }\n",
       "\n",
       "    .dataframe tbody tr th {\n",
       "        vertical-align: top;\n",
       "    }\n",
       "\n",
       "    .dataframe thead th {\n",
       "        text-align: right;\n",
       "    }\n",
       "</style>\n",
       "<table border=\"1\" class=\"dataframe\">\n",
       "  <thead>\n",
       "    <tr style=\"text-align: right;\">\n",
       "      <th></th>\n",
       "      <th>Temperature (K)</th>\n",
       "      <th>Luminosity(L/Lo)</th>\n",
       "      <th>Radius(R/Ro)</th>\n",
       "      <th>Absolute magnitude(Mv)</th>\n",
       "      <th>0</th>\n",
       "      <th>1</th>\n",
       "      <th>2</th>\n",
       "      <th>3</th>\n",
       "      <th>4</th>\n",
       "      <th>5</th>\n",
       "      <th>...</th>\n",
       "      <th>16</th>\n",
       "      <th>17</th>\n",
       "      <th>18</th>\n",
       "      <th>19</th>\n",
       "      <th>20</th>\n",
       "      <th>21</th>\n",
       "      <th>22</th>\n",
       "      <th>23</th>\n",
       "      <th>24</th>\n",
       "      <th>25</th>\n",
       "    </tr>\n",
       "  </thead>\n",
       "  <tbody>\n",
       "    <tr>\n",
       "      <th>0</th>\n",
       "      <td>-0.779382</td>\n",
       "      <td>-0.598624</td>\n",
       "      <td>-0.459210</td>\n",
       "      <td>1.116745</td>\n",
       "      <td>0.0</td>\n",
       "      <td>0.0</td>\n",
       "      <td>0.0</td>\n",
       "      <td>0.0</td>\n",
       "      <td>0.0</td>\n",
       "      <td>0.0</td>\n",
       "      <td>...</td>\n",
       "      <td>0.0</td>\n",
       "      <td>0.0</td>\n",
       "      <td>0.0</td>\n",
       "      <td>0.0</td>\n",
       "      <td>0.0</td>\n",
       "      <td>0.0</td>\n",
       "      <td>0.0</td>\n",
       "      <td>0.0</td>\n",
       "      <td>1.0</td>\n",
       "      <td>0.0</td>\n",
       "    </tr>\n",
       "    <tr>\n",
       "      <th>1</th>\n",
       "      <td>-0.782110</td>\n",
       "      <td>-0.598624</td>\n",
       "      <td>-0.459241</td>\n",
       "      <td>1.162414</td>\n",
       "      <td>0.0</td>\n",
       "      <td>0.0</td>\n",
       "      <td>0.0</td>\n",
       "      <td>0.0</td>\n",
       "      <td>0.0</td>\n",
       "      <td>0.0</td>\n",
       "      <td>...</td>\n",
       "      <td>0.0</td>\n",
       "      <td>0.0</td>\n",
       "      <td>0.0</td>\n",
       "      <td>0.0</td>\n",
       "      <td>0.0</td>\n",
       "      <td>0.0</td>\n",
       "      <td>0.0</td>\n",
       "      <td>0.0</td>\n",
       "      <td>1.0</td>\n",
       "      <td>0.0</td>\n",
       "    </tr>\n",
       "    <tr>\n",
       "      <th>2</th>\n",
       "      <td>-0.828477</td>\n",
       "      <td>-0.598624</td>\n",
       "      <td>-0.459342</td>\n",
       "      <td>1.362213</td>\n",
       "      <td>0.0</td>\n",
       "      <td>0.0</td>\n",
       "      <td>0.0</td>\n",
       "      <td>0.0</td>\n",
       "      <td>0.0</td>\n",
       "      <td>0.0</td>\n",
       "      <td>...</td>\n",
       "      <td>0.0</td>\n",
       "      <td>0.0</td>\n",
       "      <td>0.0</td>\n",
       "      <td>0.0</td>\n",
       "      <td>0.0</td>\n",
       "      <td>0.0</td>\n",
       "      <td>0.0</td>\n",
       "      <td>0.0</td>\n",
       "      <td>1.0</td>\n",
       "      <td>0.0</td>\n",
       "    </tr>\n",
       "    <tr>\n",
       "      <th>3</th>\n",
       "      <td>-0.807496</td>\n",
       "      <td>-0.598624</td>\n",
       "      <td>-0.459229</td>\n",
       "      <td>1.167171</td>\n",
       "      <td>0.0</td>\n",
       "      <td>0.0</td>\n",
       "      <td>0.0</td>\n",
       "      <td>0.0</td>\n",
       "      <td>0.0</td>\n",
       "      <td>0.0</td>\n",
       "      <td>...</td>\n",
       "      <td>0.0</td>\n",
       "      <td>0.0</td>\n",
       "      <td>0.0</td>\n",
       "      <td>0.0</td>\n",
       "      <td>0.0</td>\n",
       "      <td>0.0</td>\n",
       "      <td>0.0</td>\n",
       "      <td>0.0</td>\n",
       "      <td>1.0</td>\n",
       "      <td>0.0</td>\n",
       "    </tr>\n",
       "    <tr>\n",
       "      <th>4</th>\n",
       "      <td>-0.897819</td>\n",
       "      <td>-0.598624</td>\n",
       "      <td>-0.459340</td>\n",
       "      <td>1.491607</td>\n",
       "      <td>0.0</td>\n",
       "      <td>0.0</td>\n",
       "      <td>0.0</td>\n",
       "      <td>0.0</td>\n",
       "      <td>0.0</td>\n",
       "      <td>0.0</td>\n",
       "      <td>...</td>\n",
       "      <td>0.0</td>\n",
       "      <td>0.0</td>\n",
       "      <td>0.0</td>\n",
       "      <td>0.0</td>\n",
       "      <td>0.0</td>\n",
       "      <td>0.0</td>\n",
       "      <td>0.0</td>\n",
       "      <td>0.0</td>\n",
       "      <td>1.0</td>\n",
       "      <td>0.0</td>\n",
       "    </tr>\n",
       "    <tr>\n",
       "      <th>...</th>\n",
       "      <td>...</td>\n",
       "      <td>...</td>\n",
       "      <td>...</td>\n",
       "      <td>...</td>\n",
       "      <td>...</td>\n",
       "      <td>...</td>\n",
       "      <td>...</td>\n",
       "      <td>...</td>\n",
       "      <td>...</td>\n",
       "      <td>...</td>\n",
       "      <td>...</td>\n",
       "      <td>...</td>\n",
       "      <td>...</td>\n",
       "      <td>...</td>\n",
       "      <td>...</td>\n",
       "      <td>...</td>\n",
       "      <td>...</td>\n",
       "      <td>...</td>\n",
       "      <td>...</td>\n",
       "      <td>...</td>\n",
       "      <td>...</td>\n",
       "    </tr>\n",
       "    <tr>\n",
       "      <th>235</th>\n",
       "      <td>2.983743</td>\n",
       "      <td>1.494720</td>\n",
       "      <td>2.167974</td>\n",
       "      <td>-1.361718</td>\n",
       "      <td>1.0</td>\n",
       "      <td>0.0</td>\n",
       "      <td>0.0</td>\n",
       "      <td>0.0</td>\n",
       "      <td>0.0</td>\n",
       "      <td>0.0</td>\n",
       "      <td>...</td>\n",
       "      <td>0.0</td>\n",
       "      <td>0.0</td>\n",
       "      <td>0.0</td>\n",
       "      <td>0.0</td>\n",
       "      <td>0.0</td>\n",
       "      <td>0.0</td>\n",
       "      <td>0.0</td>\n",
       "      <td>0.0</td>\n",
       "      <td>0.0</td>\n",
       "      <td>1.0</td>\n",
       "    </tr>\n",
       "    <tr>\n",
       "      <th>236</th>\n",
       "      <td>2.133913</td>\n",
       "      <td>4.059319</td>\n",
       "      <td>1.854068</td>\n",
       "      <td>-1.428317</td>\n",
       "      <td>1.0</td>\n",
       "      <td>0.0</td>\n",
       "      <td>0.0</td>\n",
       "      <td>0.0</td>\n",
       "      <td>0.0</td>\n",
       "      <td>0.0</td>\n",
       "      <td>...</td>\n",
       "      <td>0.0</td>\n",
       "      <td>0.0</td>\n",
       "      <td>0.0</td>\n",
       "      <td>0.0</td>\n",
       "      <td>0.0</td>\n",
       "      <td>0.0</td>\n",
       "      <td>0.0</td>\n",
       "      <td>0.0</td>\n",
       "      <td>0.0</td>\n",
       "      <td>1.0</td>\n",
       "    </tr>\n",
       "    <tr>\n",
       "      <th>237</th>\n",
       "      <td>-0.175029</td>\n",
       "      <td>2.403157</td>\n",
       "      <td>2.297800</td>\n",
       "      <td>-1.437832</td>\n",
       "      <td>0.0</td>\n",
       "      <td>0.0</td>\n",
       "      <td>0.0</td>\n",
       "      <td>0.0</td>\n",
       "      <td>0.0</td>\n",
       "      <td>0.0</td>\n",
       "      <td>...</td>\n",
       "      <td>0.0</td>\n",
       "      <td>0.0</td>\n",
       "      <td>0.0</td>\n",
       "      <td>1.0</td>\n",
       "      <td>0.0</td>\n",
       "      <td>0.0</td>\n",
       "      <td>0.0</td>\n",
       "      <td>0.0</td>\n",
       "      <td>0.0</td>\n",
       "      <td>0.0</td>\n",
       "    </tr>\n",
       "    <tr>\n",
       "      <th>238</th>\n",
       "      <td>-0.132438</td>\n",
       "      <td>1.662878</td>\n",
       "      <td>1.695177</td>\n",
       "      <td>-1.485403</td>\n",
       "      <td>0.0</td>\n",
       "      <td>0.0</td>\n",
       "      <td>0.0</td>\n",
       "      <td>0.0</td>\n",
       "      <td>0.0</td>\n",
       "      <td>0.0</td>\n",
       "      <td>...</td>\n",
       "      <td>0.0</td>\n",
       "      <td>0.0</td>\n",
       "      <td>0.0</td>\n",
       "      <td>1.0</td>\n",
       "      <td>0.0</td>\n",
       "      <td>0.0</td>\n",
       "      <td>0.0</td>\n",
       "      <td>0.0</td>\n",
       "      <td>0.0</td>\n",
       "      <td>0.0</td>\n",
       "    </tr>\n",
       "    <tr>\n",
       "      <th>239</th>\n",
       "      <td>2.872754</td>\n",
       "      <td>1.048345</td>\n",
       "      <td>2.995370</td>\n",
       "      <td>-1.159064</td>\n",
       "      <td>1.0</td>\n",
       "      <td>0.0</td>\n",
       "      <td>0.0</td>\n",
       "      <td>0.0</td>\n",
       "      <td>0.0</td>\n",
       "      <td>0.0</td>\n",
       "      <td>...</td>\n",
       "      <td>0.0</td>\n",
       "      <td>0.0</td>\n",
       "      <td>0.0</td>\n",
       "      <td>0.0</td>\n",
       "      <td>0.0</td>\n",
       "      <td>0.0</td>\n",
       "      <td>0.0</td>\n",
       "      <td>0.0</td>\n",
       "      <td>0.0</td>\n",
       "      <td>1.0</td>\n",
       "    </tr>\n",
       "  </tbody>\n",
       "</table>\n",
       "<p>240 rows × 30 columns</p>\n",
       "</div>"
      ],
      "text/plain": [
       "     Temperature (K)  Luminosity(L/Lo)  Radius(R/Ro)  Absolute magnitude(Mv)  \\\n",
       "0          -0.779382         -0.598624     -0.459210                1.116745   \n",
       "1          -0.782110         -0.598624     -0.459241                1.162414   \n",
       "2          -0.828477         -0.598624     -0.459342                1.362213   \n",
       "3          -0.807496         -0.598624     -0.459229                1.167171   \n",
       "4          -0.897819         -0.598624     -0.459340                1.491607   \n",
       "..               ...               ...           ...                     ...   \n",
       "235         2.983743          1.494720      2.167974               -1.361718   \n",
       "236         2.133913          4.059319      1.854068               -1.428317   \n",
       "237        -0.175029          2.403157      2.297800               -1.437832   \n",
       "238        -0.132438          1.662878      1.695177               -1.485403   \n",
       "239         2.872754          1.048345      2.995370               -1.159064   \n",
       "\n",
       "       0    1    2    3    4    5  ...   16   17   18   19   20   21   22  \\\n",
       "0    0.0  0.0  0.0  0.0  0.0  0.0  ...  0.0  0.0  0.0  0.0  0.0  0.0  0.0   \n",
       "1    0.0  0.0  0.0  0.0  0.0  0.0  ...  0.0  0.0  0.0  0.0  0.0  0.0  0.0   \n",
       "2    0.0  0.0  0.0  0.0  0.0  0.0  ...  0.0  0.0  0.0  0.0  0.0  0.0  0.0   \n",
       "3    0.0  0.0  0.0  0.0  0.0  0.0  ...  0.0  0.0  0.0  0.0  0.0  0.0  0.0   \n",
       "4    0.0  0.0  0.0  0.0  0.0  0.0  ...  0.0  0.0  0.0  0.0  0.0  0.0  0.0   \n",
       "..   ...  ...  ...  ...  ...  ...  ...  ...  ...  ...  ...  ...  ...  ...   \n",
       "235  1.0  0.0  0.0  0.0  0.0  0.0  ...  0.0  0.0  0.0  0.0  0.0  0.0  0.0   \n",
       "236  1.0  0.0  0.0  0.0  0.0  0.0  ...  0.0  0.0  0.0  0.0  0.0  0.0  0.0   \n",
       "237  0.0  0.0  0.0  0.0  0.0  0.0  ...  0.0  0.0  0.0  1.0  0.0  0.0  0.0   \n",
       "238  0.0  0.0  0.0  0.0  0.0  0.0  ...  0.0  0.0  0.0  1.0  0.0  0.0  0.0   \n",
       "239  1.0  0.0  0.0  0.0  0.0  0.0  ...  0.0  0.0  0.0  0.0  0.0  0.0  0.0   \n",
       "\n",
       "      23   24   25  \n",
       "0    0.0  1.0  0.0  \n",
       "1    0.0  1.0  0.0  \n",
       "2    0.0  1.0  0.0  \n",
       "3    0.0  1.0  0.0  \n",
       "4    0.0  1.0  0.0  \n",
       "..   ...  ...  ...  \n",
       "235  0.0  0.0  1.0  \n",
       "236  0.0  0.0  1.0  \n",
       "237  0.0  0.0  0.0  \n",
       "238  0.0  0.0  0.0  \n",
       "239  0.0  0.0  1.0  \n",
       "\n",
       "[240 rows x 30 columns]"
      ]
     },
     "execution_count": 341,
     "metadata": {},
     "output_type": "execute_result"
    }
   ],
   "source": [
    "oh_encoder = OneHotEncoder(handle_unknown='ignore', sparse=False)\n",
    "oh_cols = pd.DataFrame(oh_encoder.fit_transform(X[['Star color', 'Spectral Class']]))\n",
    "\n",
    "oh_cols.index = X.index\n",
    "num_X = X.drop(['Star color', 'Spectral Class'], axis=1)\n",
    "\n",
    "oh_X = pd.concat([num_X, oh_cols], axis=1)\n",
    "oh_X"
   ]
  },
  {
   "cell_type": "code",
   "execution_count": 342,
   "id": "f75d13da",
   "metadata": {},
   "outputs": [
    {
     "data": {
      "text/plain": [
       "19"
      ]
     },
     "execution_count": 342,
     "metadata": {},
     "output_type": "execute_result"
    }
   ],
   "source": [
    "len(X['Star color'].unique())"
   ]
  },
  {
   "cell_type": "markdown",
   "id": "6c331c7a",
   "metadata": {},
   "source": [
    "### Spliting"
   ]
  },
  {
   "cell_type": "markdown",
   "id": "dee139f9",
   "metadata": {},
   "source": [
    "Let's split the dataframe to train and test set."
   ]
  },
  {
   "cell_type": "code",
   "execution_count": 343,
   "id": "00935fa7",
   "metadata": {},
   "outputs": [],
   "source": [
    "X_train, X_test, y_train, y_test = train_test_split(oh_X, y, test_size=0.25, random_state=5)"
   ]
  },
  {
   "cell_type": "code",
   "execution_count": 344,
   "id": "987357b8",
   "metadata": {},
   "outputs": [
    {
     "data": {
      "text/plain": [
       "(180, 30)"
      ]
     },
     "execution_count": 344,
     "metadata": {},
     "output_type": "execute_result"
    }
   ],
   "source": [
    "X_train.shape"
   ]
  },
  {
   "cell_type": "code",
   "execution_count": 22,
   "id": "06b74f0f",
   "metadata": {},
   "outputs": [
    {
     "data": {
      "text/plain": [
       "(60, 30)"
      ]
     },
     "execution_count": 22,
     "metadata": {},
     "output_type": "execute_result"
    }
   ],
   "source": [
    "X_test.shape"
   ]
  },
  {
   "cell_type": "markdown",
   "id": "aae9180b",
   "metadata": {},
   "source": [
    "### Modeling"
   ]
  },
  {
   "cell_type": "markdown",
   "id": "c3b72acf",
   "metadata": {},
   "source": [
    "We will use gridsearchcv to find the best hyperparameters for our models."
   ]
  },
  {
   "cell_type": "markdown",
   "id": "c9011465",
   "metadata": {},
   "source": [
    "We define 2 methods because of cleaner code."
   ]
  },
  {
   "cell_type": "code",
   "execution_count": 223,
   "id": "d6d2417e",
   "metadata": {},
   "outputs": [],
   "source": [
    "def find_best_params(params, model):\n",
    "    parameters = params\n",
    "\n",
    "    grid_search = GridSearchCV(estimator = model,\n",
    "                               param_grid = parameters,\n",
    "                               scoring = 'accuracy',\n",
    "                               cv = 10,\n",
    "                               return_train_score = True,\n",
    "                               n_jobs = -1)\n",
    "\n",
    "    grid_search.fit(X_train, y_train.ravel())\n",
    "    best_acc = grid_search.best_score_\n",
    "    best_parameters = grid_search.best_params_\n",
    "    print()\n",
    "    print(\"Best accuracy: {:.2f}\".format(best_acc))\n",
    "    print(\"Best Parameters:\", best_parameters)\n",
    "    print()"
   ]
  },
  {
   "cell_type": "code",
   "execution_count": 279,
   "id": "d448af7c",
   "metadata": {},
   "outputs": [],
   "source": [
    "def evaluate(model):\n",
    "    classifier = model\n",
    "    classifier.fit(X_train, y_train.ravel())\n",
    "    results = cross_val_score(estimator=classifier, X=X_train, y=y_train, cv=10, n_jobs=-1)\n",
    "    print('model accuracy score: {:.3f}'.format(results.mean()))\n",
    "    print('model train accuracy score: {:.3f}'.format(classifier.score(X_train, y_train)))\n",
    "    print('model test accuracy score: {:.3f}'.format(classifier.score(X_test, y_test)))\n",
    "    \n",
    "    return classifier"
   ]
  },
  {
   "cell_type": "markdown",
   "id": "b2ccc0f0",
   "metadata": {},
   "source": [
    "### Decision Tree"
   ]
  },
  {
   "cell_type": "code",
   "execution_count": 345,
   "id": "ad32f61c",
   "metadata": {},
   "outputs": [
    {
     "name": "stdout",
     "output_type": "stream",
     "text": [
      "\n",
      "Best accuracy: 1.00\n",
      "Best Parameters: {'max_depth': None, 'max_features': None, 'min_samples_leaf': 1, 'min_samples_split': 10}\n",
      "\n"
     ]
    }
   ],
   "source": [
    "find_best_params({\n",
    "    'max_depth': [None, 10, 15, 20, 30, 50, 80, 100],\n",
    "    'max_features': [None, 5, 10, 20, 30],\n",
    "    'min_samples_leaf': [1, 2, 3, 4, 5],\n",
    "    'min_samples_split': [2, 8, 10, 12],\n",
    "    },\n",
    "    DecisionTreeClassifier()\n",
    ")"
   ]
  },
  {
   "cell_type": "code",
   "execution_count": 349,
   "id": "67910436",
   "metadata": {
    "scrolled": true
   },
   "outputs": [
    {
     "name": "stdout",
     "output_type": "stream",
     "text": [
      "model accuracy score: 1.000\n",
      "model train accuracy score: 1.000\n",
      "model test accuracy score: 1.000\n"
     ]
    }
   ],
   "source": [
    "model_tree = evaluate(DecisionTreeClassifier(min_samples_leaf=1, min_samples_split=10))"
   ]
  },
  {
   "cell_type": "markdown",
   "id": "4180bb35",
   "metadata": {},
   "source": [
    "Alright, let's do this with other models as well."
   ]
  },
  {
   "cell_type": "markdown",
   "id": "db353159",
   "metadata": {},
   "source": [
    "### KNN"
   ]
  },
  {
   "cell_type": "code",
   "execution_count": 225,
   "id": "7810fb37",
   "metadata": {
    "scrolled": true
   },
   "outputs": [
    {
     "name": "stdout",
     "output_type": "stream",
     "text": [
      "\n",
      "Best accuracy: 0.99\n",
      "Best Parameters: {'n_neighbors': 1, 'p': 1}\n",
      "\n"
     ]
    }
   ],
   "source": [
    "find_best_params({'n_neighbors': range(1,20),'p': range(1,10)}, KNeighborsClassifier())"
   ]
  },
  {
   "cell_type": "code",
   "execution_count": 314,
   "id": "f1d33a76",
   "metadata": {
    "scrolled": true
   },
   "outputs": [
    {
     "name": "stdout",
     "output_type": "stream",
     "text": [
      "model accuracy score: 0.994\n",
      "model train accuracy score: 1.000\n",
      "model test accuracy score: 1.000\n"
     ]
    }
   ],
   "source": [
    "model_knn = evaluate(KNeighborsClassifier(n_neighbors=1, p=1))"
   ]
  },
  {
   "cell_type": "markdown",
   "id": "71dcda8c",
   "metadata": {},
   "source": [
    "### Random Forest"
   ]
  },
  {
   "cell_type": "code",
   "execution_count": 244,
   "id": "daab2cbc",
   "metadata": {},
   "outputs": [
    {
     "name": "stderr",
     "output_type": "stream",
     "text": [
      "C:\\Users\\pikap\\anaconda3\\lib\\site-packages\\sklearn\\model_selection\\_search.py:918: UserWarning: One or more of the test scores are non-finite: [nan nan nan ...  1.  1.  1.]\n",
      "  warnings.warn(\n",
      "C:\\Users\\pikap\\anaconda3\\lib\\site-packages\\sklearn\\model_selection\\_search.py:918: UserWarning: One or more of the train scores are non-finite: [nan nan nan ...  1.  1.  1.]\n",
      "  warnings.warn(\n"
     ]
    },
    {
     "name": "stdout",
     "output_type": "stream",
     "text": [
      "\n",
      "Best accuracy: 1.00\n",
      "Best Parameters: {'max_depth': None, 'max_features': None, 'min_samples_leaf': 1, 'min_samples_split': 2, 'n_estimators': 200}\n",
      "\n"
     ]
    }
   ],
   "source": [
    "find_best_params({\n",
    "    'max_depth': [None, 10, 15, 20, 30, 50],\n",
    "    'max_features': [None, 5, 10],\n",
    "    'min_samples_leaf': [1, 2, 3, 4, 5],\n",
    "    'min_samples_split': [1, 2, 8, 10, 12],\n",
    "    'n_estimators': [100, 200, 500, 1000]\n",
    "    },\n",
    "    RandomForestClassifier()\n",
    ")"
   ]
  },
  {
   "cell_type": "code",
   "execution_count": 312,
   "id": "275bed01",
   "metadata": {},
   "outputs": [
    {
     "name": "stdout",
     "output_type": "stream",
     "text": [
      "model accuracy score: 1.000\n",
      "model train accuracy score: 1.000\n",
      "model test accuracy score: 1.000\n"
     ]
    }
   ],
   "source": [
    "model_random_forest = evaluate(RandomForestClassifier(min_samples_leaf=1, min_samples_split=2, n_estimators=20))"
   ]
  },
  {
   "cell_type": "markdown",
   "id": "adfdf4c0",
   "metadata": {},
   "source": [
    "### Logistic Regression"
   ]
  },
  {
   "cell_type": "code",
   "execution_count": 305,
   "id": "21b862c9",
   "metadata": {},
   "outputs": [
    {
     "name": "stdout",
     "output_type": "stream",
     "text": [
      "\n",
      "Best accuracy: 1.00\n",
      "Best Parameters: {'C': 1, 'penalty': 'none'}\n",
      "\n"
     ]
    },
    {
     "name": "stderr",
     "output_type": "stream",
     "text": [
      "C:\\Users\\pikap\\anaconda3\\lib\\site-packages\\sklearn\\model_selection\\_search.py:918: UserWarning: One or more of the test scores are non-finite: [       nan 0.98888889 1.                nan 0.99444444 1.\n",
      "        nan 1.         1.                nan 1.         1.\n",
      "        nan 1.         1.                nan 1.         1.\n",
      "        nan 1.         1.                nan 1.         1.\n",
      "        nan 1.         1.        ]\n",
      "  warnings.warn(\n",
      "C:\\Users\\pikap\\anaconda3\\lib\\site-packages\\sklearn\\model_selection\\_search.py:918: UserWarning: One or more of the train scores are non-finite: [nan  1.  1. nan  1.  1. nan  1.  1. nan  1.  1. nan  1.  1. nan  1.  1.\n",
      " nan  1.  1. nan  1.  1. nan  1.  1.]\n",
      "  warnings.warn(\n"
     ]
    }
   ],
   "source": [
    "find_best_params({'penalty': ['l1', 'l2', 'none'], 'C': range(1, 10)}, LogisticRegression())"
   ]
  },
  {
   "cell_type": "code",
   "execution_count": 304,
   "id": "d8103959",
   "metadata": {},
   "outputs": [
    {
     "name": "stdout",
     "output_type": "stream",
     "text": [
      "model accuracy score: 1.000\n",
      "model train accuracy score: 1.000\n",
      "model test accuracy score: 0.983\n"
     ]
    }
   ],
   "source": [
    "model_log_reg = evaluate(LogisticRegression(penalty='none', C=1.0))"
   ]
  },
  {
   "cell_type": "markdown",
   "id": "b9056ea9",
   "metadata": {},
   "source": [
    "### SVM "
   ]
  },
  {
   "cell_type": "code",
   "execution_count": 306,
   "id": "c741f5ac",
   "metadata": {},
   "outputs": [
    {
     "name": "stdout",
     "output_type": "stream",
     "text": [
      "\n",
      "Best accuracy: 1.00\n",
      "Best Parameters: {'C': 1, 'degree': 2, 'kernel': 'linear'}\n",
      "\n"
     ]
    }
   ],
   "source": [
    "find_best_params({\n",
    "    'C': range(1, 20),\n",
    "    'kernel': ['linear', 'poly', 'rbf', 'sigmoid'],\n",
    "    'degree': range(2, 10)\n",
    "    }, \n",
    "    SVC()\n",
    ")"
   ]
  },
  {
   "cell_type": "code",
   "execution_count": 307,
   "id": "5b8681f0",
   "metadata": {
    "scrolled": true
   },
   "outputs": [
    {
     "name": "stdout",
     "output_type": "stream",
     "text": [
      "model accuracy score: 1.000\n",
      "model train accuracy score: 1.000\n",
      "model test accuracy score: 1.000\n"
     ]
    }
   ],
   "source": [
    "model_svm = evaluate(SVC(C=1.0, degree=2, kernel='linear'))"
   ]
  },
  {
   "cell_type": "markdown",
   "id": "26b9e1c6",
   "metadata": {},
   "source": [
    " "
   ]
  },
  {
   "cell_type": "markdown",
   "id": "e111d67c",
   "metadata": {},
   "source": [
    "\n",
    "We've seen different classification models so far and they had similar results. Consequently, there is no significant difference as to which model will be used for prediction."
   ]
  },
  {
   "cell_type": "markdown",
   "id": "c322373d",
   "metadata": {},
   "source": [
    "### Prediction"
   ]
  },
  {
   "cell_type": "code",
   "execution_count": 222,
   "id": "04fdb819",
   "metadata": {},
   "outputs": [
    {
     "data": {
      "text/plain": [
       "5"
      ]
     },
     "execution_count": 222,
     "metadata": {},
     "output_type": "execute_result"
    }
   ],
   "source": [
    "color = 'White'\n",
    "sclass = 'A'\n",
    "temp = 8829\n",
    "lum = 537493.000000\n",
    "rad = 1423.0000\n",
    "magnitude = -10.73\n",
    "\n",
    "num_values = sc.transform([[temp, lum, rad, magnitude]])\n",
    "cat_values = oh_encoder.transform(np.array([color, sclass]).reshape(-1, 2))\n",
    "\n",
    "array = []\n",
    "for i in num_values:\n",
    "    for j in i:\n",
    "        array.append(j)\n",
    "for i in cat_values:\n",
    "    for j in i:\n",
    "        array.append(j)\n",
    "        \n",
    "result = model_tree.predict([array])\n",
    "result[0]"
   ]
  }
 ],
 "metadata": {
  "kernelspec": {
   "display_name": "Python 3",
   "language": "python",
   "name": "python3"
  },
  "language_info": {
   "codemirror_mode": {
    "name": "ipython",
    "version": 3
   },
   "file_extension": ".py",
   "mimetype": "text/x-python",
   "name": "python",
   "nbconvert_exporter": "python",
   "pygments_lexer": "ipython3",
   "version": "3.8.8"
  }
 },
 "nbformat": 4,
 "nbformat_minor": 5
}
